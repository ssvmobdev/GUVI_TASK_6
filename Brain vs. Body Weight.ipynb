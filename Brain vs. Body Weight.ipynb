{
 "cells": [
  {
   "cell_type": "markdown",
   "id": "e078036a",
   "metadata": {},
   "source": [
    "In the file brain_body.txt, the average brain and body weight for a number of mammal species are recorded. Load this data into a Pandas data frame.\n",
    "\n",
    "Tasks\n",
    "Find the linear regression equation for this data for brain weight to body weight.\n",
    "Chart the original data and the equation on the chart.\n",
    "Find the equation's  𝑅2  score (use the .score method) to determine whether the equation is a good fit for this data. (0.8 and greater is considered a strong correlation.)"
   ]
  },
  {
   "cell_type": "code",
   "execution_count": 1,
   "id": "6e017150",
   "metadata": {},
   "outputs": [],
   "source": [
    "import pandas as pd\n",
    "import matplotlib.pyplot as plt\n",
    "import numpy as np\n",
    "from sklearn import linear_model"
   ]
  },
  {
   "cell_type": "code",
   "execution_count": 2,
   "id": "83fa4486",
   "metadata": {},
   "outputs": [],
   "source": [
    "df = pd.read_fwf(\"brain_body.txt\")"
   ]
  },
  {
   "cell_type": "code",
   "execution_count": 3,
   "id": "85366f9e",
   "metadata": {},
   "outputs": [
    {
     "data": {
      "text/html": [
       "<div>\n",
       "<style scoped>\n",
       "    .dataframe tbody tr th:only-of-type {\n",
       "        vertical-align: middle;\n",
       "    }\n",
       "\n",
       "    .dataframe tbody tr th {\n",
       "        vertical-align: top;\n",
       "    }\n",
       "\n",
       "    .dataframe thead th {\n",
       "        text-align: right;\n",
       "    }\n",
       "</style>\n",
       "<table border=\"1\" class=\"dataframe\">\n",
       "  <thead>\n",
       "    <tr style=\"text-align: right;\">\n",
       "      <th></th>\n",
       "      <th>Brain</th>\n",
       "      <th>Body</th>\n",
       "    </tr>\n",
       "  </thead>\n",
       "  <tbody>\n",
       "    <tr>\n",
       "      <th>0</th>\n",
       "      <td>3.385</td>\n",
       "      <td>44.5</td>\n",
       "    </tr>\n",
       "    <tr>\n",
       "      <th>1</th>\n",
       "      <td>0.480</td>\n",
       "      <td>15.5</td>\n",
       "    </tr>\n",
       "    <tr>\n",
       "      <th>2</th>\n",
       "      <td>1.350</td>\n",
       "      <td>8.1</td>\n",
       "    </tr>\n",
       "    <tr>\n",
       "      <th>3</th>\n",
       "      <td>465.000</td>\n",
       "      <td>423.0</td>\n",
       "    </tr>\n",
       "    <tr>\n",
       "      <th>4</th>\n",
       "      <td>36.330</td>\n",
       "      <td>119.5</td>\n",
       "    </tr>\n",
       "  </tbody>\n",
       "</table>\n",
       "</div>"
      ],
      "text/plain": [
       "     Brain   Body\n",
       "0    3.385   44.5\n",
       "1    0.480   15.5\n",
       "2    1.350    8.1\n",
       "3  465.000  423.0\n",
       "4   36.330  119.5"
      ]
     },
     "execution_count": 3,
     "metadata": {},
     "output_type": "execute_result"
    }
   ],
   "source": [
    "df.head()"
   ]
  },
  {
   "cell_type": "code",
   "execution_count": 4,
   "id": "25c6f3bc",
   "metadata": {},
   "outputs": [
    {
     "data": {
      "text/plain": [
       "(62, 2)"
      ]
     },
     "execution_count": 4,
     "metadata": {},
     "output_type": "execute_result"
    }
   ],
   "source": [
    "df.shape"
   ]
  },
  {
   "cell_type": "code",
   "execution_count": 5,
   "id": "3ea57f91",
   "metadata": {},
   "outputs": [
    {
     "data": {
      "text/plain": [
       "Brain    0\n",
       "Body     0\n",
       "dtype: int64"
      ]
     },
     "execution_count": 5,
     "metadata": {},
     "output_type": "execute_result"
    }
   ],
   "source": [
    "df.isnull().sum()"
   ]
  },
  {
   "cell_type": "code",
   "execution_count": 6,
   "id": "839722cd",
   "metadata": {},
   "outputs": [
    {
     "data": {
      "text/html": [
       "<div>\n",
       "<style scoped>\n",
       "    .dataframe tbody tr th:only-of-type {\n",
       "        vertical-align: middle;\n",
       "    }\n",
       "\n",
       "    .dataframe tbody tr th {\n",
       "        vertical-align: top;\n",
       "    }\n",
       "\n",
       "    .dataframe thead th {\n",
       "        text-align: right;\n",
       "    }\n",
       "</style>\n",
       "<table border=\"1\" class=\"dataframe\">\n",
       "  <thead>\n",
       "    <tr style=\"text-align: right;\">\n",
       "      <th></th>\n",
       "      <th>Brain</th>\n",
       "      <th>Body</th>\n",
       "    </tr>\n",
       "  </thead>\n",
       "  <tbody>\n",
       "    <tr>\n",
       "      <th>count</th>\n",
       "      <td>62.000000</td>\n",
       "      <td>62.000000</td>\n",
       "    </tr>\n",
       "    <tr>\n",
       "      <th>mean</th>\n",
       "      <td>198.789984</td>\n",
       "      <td>283.134194</td>\n",
       "    </tr>\n",
       "    <tr>\n",
       "      <th>std</th>\n",
       "      <td>899.158011</td>\n",
       "      <td>930.278942</td>\n",
       "    </tr>\n",
       "    <tr>\n",
       "      <th>min</th>\n",
       "      <td>0.005000</td>\n",
       "      <td>0.140000</td>\n",
       "    </tr>\n",
       "    <tr>\n",
       "      <th>25%</th>\n",
       "      <td>0.600000</td>\n",
       "      <td>4.250000</td>\n",
       "    </tr>\n",
       "    <tr>\n",
       "      <th>50%</th>\n",
       "      <td>3.342500</td>\n",
       "      <td>17.250000</td>\n",
       "    </tr>\n",
       "    <tr>\n",
       "      <th>75%</th>\n",
       "      <td>48.202500</td>\n",
       "      <td>166.000000</td>\n",
       "    </tr>\n",
       "    <tr>\n",
       "      <th>max</th>\n",
       "      <td>6654.000000</td>\n",
       "      <td>5712.000000</td>\n",
       "    </tr>\n",
       "  </tbody>\n",
       "</table>\n",
       "</div>"
      ],
      "text/plain": [
       "             Brain         Body\n",
       "count    62.000000    62.000000\n",
       "mean    198.789984   283.134194\n",
       "std     899.158011   930.278942\n",
       "min       0.005000     0.140000\n",
       "25%       0.600000     4.250000\n",
       "50%       3.342500    17.250000\n",
       "75%      48.202500   166.000000\n",
       "max    6654.000000  5712.000000"
      ]
     },
     "execution_count": 6,
     "metadata": {},
     "output_type": "execute_result"
    }
   ],
   "source": [
    "df.describe()"
   ]
  },
  {
   "cell_type": "code",
   "execution_count": 7,
   "id": "f75f2c3a",
   "metadata": {},
   "outputs": [],
   "source": [
    "df=df.drop_duplicates()"
   ]
  },
  {
   "cell_type": "code",
   "execution_count": 8,
   "id": "39994101",
   "metadata": {},
   "outputs": [
    {
     "data": {
      "text/plain": [
       "Brain    float64\n",
       "Body     float64\n",
       "dtype: object"
      ]
     },
     "execution_count": 8,
     "metadata": {},
     "output_type": "execute_result"
    }
   ],
   "source": [
    "df.dtypes"
   ]
  },
  {
   "cell_type": "code",
   "execution_count": 9,
   "id": "b2900991",
   "metadata": {},
   "outputs": [
    {
     "data": {
      "image/png": "[encoded data removed]",
      "text/plain": [
       "<Figure size 432x288 with 1 Axes>"
      ]
     },
     "metadata": {
      "needs_background": "light"
     },
     "output_type": "display_data"
    }
   ],
   "source": [
    "df.plot(x='Brain',y='Body',style='o')\n",
    "plt.title('Brain weight vs Body weight')\n",
    "plt.xlabel('Brain weight')\n",
    "plt.ylabel('Body weight')\n",
    "plt.show()"
   ]
  },
  {
   "cell_type": "code",
   "execution_count": 10,
   "id": "0f142710",
   "metadata": {},
   "outputs": [
    {
     "data": {
      "text/html": [
       "<div>\n",
       "<style scoped>\n",
       "    .dataframe tbody tr th:only-of-type {\n",
       "        vertical-align: middle;\n",
       "    }\n",
       "\n",
       "    .dataframe tbody tr th {\n",
       "        vertical-align: top;\n",
       "    }\n",
       "\n",
       "    .dataframe thead th {\n",
       "        text-align: right;\n",
       "    }\n",
       "</style>\n",
       "<table border=\"1\" class=\"dataframe\">\n",
       "  <thead>\n",
       "    <tr style=\"text-align: right;\">\n",
       "      <th></th>\n",
       "      <th>Brain</th>\n",
       "      <th>Body</th>\n",
       "    </tr>\n",
       "  </thead>\n",
       "  <tbody>\n",
       "    <tr>\n",
       "      <th>Brain</th>\n",
       "      <td>1.000000</td>\n",
       "      <td>0.934164</td>\n",
       "    </tr>\n",
       "    <tr>\n",
       "      <th>Body</th>\n",
       "      <td>0.934164</td>\n",
       "      <td>1.000000</td>\n",
       "    </tr>\n",
       "  </tbody>\n",
       "</table>\n",
       "</div>"
      ],
      "text/plain": [
       "          Brain      Body\n",
       "Brain  1.000000  0.934164\n",
       "Body   0.934164  1.000000"
      ]
     },
     "execution_count": 10,
     "metadata": {},
     "output_type": "execute_result"
    }
   ],
   "source": [
    "df.corr()"
   ]
  },
  {
   "cell_type": "code",
   "execution_count": 11,
   "id": "113b70cf",
   "metadata": {},
   "outputs": [],
   "source": [
    "#cleaning outliar"
   ]
  },
  {
   "cell_type": "code",
   "execution_count": 12,
   "id": "ba6a17d9",
   "metadata": {},
   "outputs": [
    {
     "name": "stdout",
     "output_type": "stream",
     "text": [
      "IQR is 47.6025\n",
      "25% th value of brain data is  0.6000000000000001\n",
      "75% th value of brain data is  48.2025\n"
     ]
    }
   ],
   "source": [
    "percentile_25=df['Brain'].quantile(0.25)\n",
    "percentile_75=df['Brain'].quantile(0.75)\n",
    "iqr= percentile_75-percentile_25\n",
    "print(\"IQR is\",iqr)\n",
    "print('25% th value of brain data is ',percentile_25)\n",
    "print('75% th value of brain data is ',percentile_75)"
   ]
  },
  {
   "cell_type": "code",
   "execution_count": 13,
   "id": "a74f3828",
   "metadata": {},
   "outputs": [
    {
     "name": "stdout",
     "output_type": "stream",
     "text": [
      "Lower limit of brain data = -70.80375000000001\n",
      "upper limit of brain data = 119.60625\n"
     ]
    }
   ],
   "source": [
    "#Finding upper and lower limit\n",
    "upper_limit= percentile_75+1.5 * iqr\n",
    "lower_limit= percentile_25-1.5 * iqr\n",
    "print('Lower limit of brain data =',lower_limit)\n",
    "print('upper limit of brain data =',upper_limit)"
   ]
  },
  {
   "cell_type": "code",
   "execution_count": 14,
   "id": "f7dd1c5d",
   "metadata": {},
   "outputs": [],
   "source": [
    "#for x in df.index:\n",
    "#    if df.loc[x, \"Brain\"] > 119.60625:\n",
    "#        df.drop(x, inplace=True)"
   ]
  },
  {
   "cell_type": "code",
   "execution_count": 15,
   "id": "6259409d",
   "metadata": {},
   "outputs": [],
   "source": [
    "#for x in df.index:\n",
    "#    if df.loc[x, \"Brain\"] < -70.80:\n",
    "#        df.drop(x, inplace=True)"
   ]
  },
  {
   "cell_type": "code",
   "execution_count": 16,
   "id": "5a2e2a89",
   "metadata": {},
   "outputs": [],
   "source": [
    "#df"
   ]
  },
  {
   "cell_type": "code",
   "execution_count": null,
   "id": "05ec76d6",
   "metadata": {},
   "outputs": [],
   "source": []
  },
  {
   "cell_type": "markdown",
   "id": "6887eb19",
   "metadata": {},
   "source": [
    "# spliting the data"
   ]
  },
  {
   "cell_type": "code",
   "execution_count": 17,
   "id": "d7e5f84a",
   "metadata": {},
   "outputs": [],
   "source": [
    "X = df.loc[:,['Brain']].values\n",
    "y = df.loc[:,'Body'].values"
   ]
  },
  {
   "cell_type": "code",
   "execution_count": 18,
   "id": "933c4f09",
   "metadata": {},
   "outputs": [
    {
     "data": {
      "text/plain": [
       "array([[3.385e+00],\n",
       "       [4.800e-01],\n",
       "       [1.350e+00],\n",
       "       [4.650e+02],\n",
       "       [3.633e+01],\n",
       "       [2.766e+01],\n",
       "       [1.483e+01],\n",
       "       [1.040e+00],\n",
       "       [4.190e+00],\n",
       "       [4.250e-01],\n",
       "       [1.010e-01],\n",
       "       [9.200e-01],\n",
       "       [1.000e+00],\n",
       "       [5.000e-03],\n",
       "       [6.000e-02],\n",
       "       [3.500e+00],\n",
       "       [2.000e+00],\n",
       "       [1.700e+00],\n",
       "       [2.547e+03],\n",
       "       [2.300e-02],\n",
       "       [1.871e+02],\n",
       "       [5.210e+02],\n",
       "       [7.850e-01],\n",
       "       [1.000e+01],\n",
       "       [3.300e+00],\n",
       "       [2.000e-01],\n",
       "       [1.410e+00],\n",
       "       [5.290e+02],\n",
       "       [2.070e+02],\n",
       "       [8.500e+01],\n",
       "       [7.500e-01],\n",
       "       [6.200e+01],\n",
       "       [6.654e+03],\n",
       "       [3.500e+00],\n",
       "       [6.800e+00],\n",
       "       [3.500e+01],\n",
       "       [4.050e+00],\n",
       "       [1.200e-01],\n",
       "       [2.300e-02],\n",
       "       [1.000e-02],\n",
       "       [1.400e+00],\n",
       "       [2.500e+02],\n",
       "       [2.500e+00],\n",
       "       [5.550e+01],\n",
       "       [1.000e+02],\n",
       "       [5.216e+01],\n",
       "       [1.055e+01],\n",
       "       [5.500e-01],\n",
       "       [6.000e+01],\n",
       "       [3.600e+00],\n",
       "       [4.288e+00],\n",
       "       [2.800e-01],\n",
       "       [7.500e-02],\n",
       "       [1.220e-01],\n",
       "       [4.800e-02],\n",
       "       [1.920e+02],\n",
       "       [3.000e+00],\n",
       "       [1.600e+02],\n",
       "       [9.000e-01],\n",
       "       [1.620e+00],\n",
       "       [1.040e-01],\n",
       "       [4.235e+00]])"
      ]
     },
     "execution_count": 18,
     "metadata": {},
     "output_type": "execute_result"
    }
   ],
   "source": [
    "X"
   ]
  },
  {
   "cell_type": "code",
   "execution_count": 19,
   "id": "39157025",
   "metadata": {},
   "outputs": [
    {
     "data": {
      "text/plain": [
       "array([4.450e+01, 1.550e+01, 8.100e+00, 4.230e+02, 1.195e+02, 1.150e+02,\n",
       "       9.820e+01, 5.500e+00, 5.800e+01, 6.400e+00, 4.000e+00, 5.700e+00,\n",
       "       6.600e+00, 1.400e-01, 1.000e+00, 1.080e+01, 1.230e+01, 6.300e+00,\n",
       "       4.603e+03, 3.000e-01, 4.190e+02, 6.550e+02, 3.500e+00, 1.150e+02,\n",
       "       2.560e+01, 5.000e+00, 1.750e+01, 6.800e+02, 4.060e+02, 3.250e+02,\n",
       "       1.230e+01, 1.320e+03, 5.712e+03, 3.900e+00, 1.790e+02, 5.600e+01,\n",
       "       1.700e+01, 1.000e+00, 4.000e-01, 2.500e-01, 1.250e+01, 4.900e+02,\n",
       "       1.210e+01, 1.750e+02, 1.570e+02, 4.400e+02, 1.795e+02, 2.400e+00,\n",
       "       8.100e+01, 2.100e+01, 3.920e+01, 1.900e+00, 1.200e+00, 3.000e+00,\n",
       "       3.300e-01, 1.800e+02, 2.500e+01, 1.690e+02, 2.600e+00, 1.140e+01,\n",
       "       2.500e+00, 5.040e+01])"
      ]
     },
     "execution_count": 19,
     "metadata": {},
     "output_type": "execute_result"
    }
   ],
   "source": [
    "y"
   ]
  },
  {
   "cell_type": "code",
   "execution_count": 20,
   "id": "462dafa9",
   "metadata": {},
   "outputs": [],
   "source": [
    "from sklearn.model_selection import train_test_split\n",
    "X_train,X_test,y_train,y_test = train_test_split(X, y, test_size=0.3, random_state = 1)\n"
   ]
  },
  {
   "cell_type": "code",
   "execution_count": 21,
   "id": "ce279951",
   "metadata": {},
   "outputs": [
    {
     "data": {
      "text/plain": [
       "array([6.55e+02, 1.20e+00, 4.00e-01, 2.56e+01, 8.10e+00, 4.90e+02,\n",
       "       2.50e+00, 3.92e+01, 5.60e+01, 1.57e+02, 1.21e+01, 2.50e-01,\n",
       "       1.75e+01, 1.80e+02, 2.40e+00, 4.23e+02, 1.25e+01, 6.80e+02,\n",
       "       4.00e+00])"
      ]
     },
     "execution_count": 21,
     "metadata": {},
     "output_type": "execute_result"
    }
   ],
   "source": [
    "y_test"
   ]
  },
  {
   "cell_type": "code",
   "execution_count": 22,
   "id": "f06949e8",
   "metadata": {},
   "outputs": [
    {
     "data": {
      "text/plain": [
       "array([[3.385e+00],\n",
       "       [4.800e-01],\n",
       "       [1.350e+00],\n",
       "       [4.650e+02],\n",
       "       [3.633e+01],\n",
       "       [2.766e+01],\n",
       "       [1.483e+01],\n",
       "       [1.040e+00],\n",
       "       [4.190e+00],\n",
       "       [4.250e-01],\n",
       "       [1.010e-01],\n",
       "       [9.200e-01],\n",
       "       [1.000e+00],\n",
       "       [5.000e-03],\n",
       "       [6.000e-02],\n",
       "       [3.500e+00],\n",
       "       [2.000e+00],\n",
       "       [1.700e+00],\n",
       "       [2.547e+03],\n",
       "       [2.300e-02],\n",
       "       [1.871e+02],\n",
       "       [5.210e+02],\n",
       "       [7.850e-01],\n",
       "       [1.000e+01],\n",
       "       [3.300e+00],\n",
       "       [2.000e-01],\n",
       "       [1.410e+00],\n",
       "       [5.290e+02],\n",
       "       [2.070e+02],\n",
       "       [8.500e+01],\n",
       "       [7.500e-01],\n",
       "       [6.200e+01],\n",
       "       [6.654e+03],\n",
       "       [3.500e+00],\n",
       "       [6.800e+00],\n",
       "       [3.500e+01],\n",
       "       [4.050e+00],\n",
       "       [1.200e-01],\n",
       "       [2.300e-02],\n",
       "       [1.000e-02],\n",
       "       [1.400e+00],\n",
       "       [2.500e+02],\n",
       "       [2.500e+00],\n",
       "       [5.550e+01],\n",
       "       [1.000e+02],\n",
       "       [5.216e+01],\n",
       "       [1.055e+01],\n",
       "       [5.500e-01],\n",
       "       [6.000e+01],\n",
       "       [3.600e+00],\n",
       "       [4.288e+00],\n",
       "       [2.800e-01],\n",
       "       [7.500e-02],\n",
       "       [1.220e-01],\n",
       "       [4.800e-02],\n",
       "       [1.920e+02],\n",
       "       [3.000e+00],\n",
       "       [1.600e+02],\n",
       "       [9.000e-01],\n",
       "       [1.620e+00],\n",
       "       [1.040e-01],\n",
       "       [4.235e+00]])"
      ]
     },
     "execution_count": 22,
     "metadata": {},
     "output_type": "execute_result"
    }
   ],
   "source": [
    "X"
   ]
  },
  {
   "cell_type": "code",
   "execution_count": 23,
   "id": "c4b295a7",
   "metadata": {},
   "outputs": [
    {
     "data": {
      "text/plain": [
       "((43, 1), (19, 1))"
      ]
     },
     "execution_count": 23,
     "metadata": {},
     "output_type": "execute_result"
    }
   ],
   "source": [
    "X_train.shape, X_test.shape"
   ]
  },
  {
   "cell_type": "code",
   "execution_count": 24,
   "id": "dd4ef0f1",
   "metadata": {},
   "outputs": [],
   "source": [
    "#from sklearn.preprocessing import StandardScaler # importing the required function\n",
    "#scaler = StandardScaler() #initialis\n",
    "#scaler.fit(X_train.reshape(-1,1)) # find the values of mu and sigma\n",
    "#X_train = scaler.transform(X_train)\n",
    "#X_test = scaler.transform(X_test) #only transform the test dataset, dont fit it"
   ]
  },
  {
   "cell_type": "code",
   "execution_count": 25,
   "id": "0a546dd1",
   "metadata": {},
   "outputs": [],
   "source": [
    "#scaler.var_"
   ]
  },
  {
   "cell_type": "code",
   "execution_count": 26,
   "id": "72b83631",
   "metadata": {},
   "outputs": [
    {
     "data": {
      "text/plain": [
       "array([[5.210e+02],\n",
       "       [7.500e-02],\n",
       "       [2.300e-02],\n",
       "       [3.300e+00],\n",
       "       [1.350e+00],\n",
       "       [2.500e+02],\n",
       "       [1.040e-01],\n",
       "       [4.288e+00],\n",
       "       [3.500e+01],\n",
       "       [1.000e+02],\n",
       "       [2.500e+00],\n",
       "       [1.000e-02],\n",
       "       [1.410e+00],\n",
       "       [1.920e+02],\n",
       "       [5.500e-01],\n",
       "       [4.650e+02],\n",
       "       [1.400e+00],\n",
       "       [5.290e+02],\n",
       "       [1.010e-01]])"
      ]
     },
     "execution_count": 26,
     "metadata": {},
     "output_type": "execute_result"
    }
   ],
   "source": [
    "X_test"
   ]
  },
  {
   "cell_type": "code",
   "execution_count": 27,
   "id": "7b5f7c47",
   "metadata": {},
   "outputs": [
    {
     "data": {
      "text/plain": [
       "LinearRegression()"
      ]
     },
     "execution_count": 27,
     "metadata": {},
     "output_type": "execute_result"
    }
   ],
   "source": [
    "from sklearn.linear_model import LinearRegression #importing all the required functions\n",
    "regressor = LinearRegression() # spredicted score = m * hours + c  \n",
    "\"Symtax : varName = ModelName(modelHyperParams)\"\n",
    "regressor.fit(X_train, y_train) #Learning happens - GD is done and we get the final values of m and c"
   ]
  },
  {
   "cell_type": "code",
   "execution_count": 28,
   "id": "3731b556",
   "metadata": {},
   "outputs": [
    {
     "name": "stdout",
     "output_type": "stream",
     "text": [
      "115.55541349988076\n"
     ]
    }
   ],
   "source": [
    "print(regressor.intercept_)"
   ]
  },
  {
   "cell_type": "code",
   "execution_count": 29,
   "id": "3a870d28",
   "metadata": {},
   "outputs": [
    {
     "name": "stdout",
     "output_type": "stream",
     "text": [
      "[0.96093307]\n"
     ]
    }
   ],
   "source": [
    "print(regressor.coef_)"
   ]
  },
  {
   "cell_type": "code",
   "execution_count": 30,
   "id": "2ce2ac49",
   "metadata": {},
   "outputs": [
    {
     "data": {
      "text/plain": [
       "array([118.4382127])"
      ]
     },
     "execution_count": 30,
     "metadata": {},
     "output_type": "execute_result"
    }
   ],
   "source": [
    "regressor.predict([[3]])"
   ]
  },
  {
   "cell_type": "code",
   "execution_count": 37,
   "id": "5e3f7d5a",
   "metadata": {},
   "outputs": [
    {
     "data": {
      "text/html": [
       "<div>\n",
       "<style scoped>\n",
       "    .dataframe tbody tr th:only-of-type {\n",
       "        vertical-align: middle;\n",
       "    }\n",
       "\n",
       "    .dataframe tbody tr th {\n",
       "        vertical-align: top;\n",
       "    }\n",
       "\n",
       "    .dataframe thead th {\n",
       "        text-align: right;\n",
       "    }\n",
       "</style>\n",
       "<table border=\"1\" class=\"dataframe\">\n",
       "  <thead>\n",
       "    <tr style=\"text-align: right;\">\n",
       "      <th></th>\n",
       "      <th>Actual</th>\n",
       "      <th>Predicted</th>\n",
       "    </tr>\n",
       "  </thead>\n",
       "  <tbody>\n",
       "    <tr>\n",
       "      <th>0</th>\n",
       "      <td>655.00</td>\n",
       "      <td>616.201541</td>\n",
       "    </tr>\n",
       "    <tr>\n",
       "      <th>1</th>\n",
       "      <td>1.20</td>\n",
       "      <td>115.627483</td>\n",
       "    </tr>\n",
       "    <tr>\n",
       "      <th>2</th>\n",
       "      <td>0.40</td>\n",
       "      <td>115.577515</td>\n",
       "    </tr>\n",
       "    <tr>\n",
       "      <th>3</th>\n",
       "      <td>25.60</td>\n",
       "      <td>118.726493</td>\n",
       "    </tr>\n",
       "    <tr>\n",
       "      <th>4</th>\n",
       "      <td>8.10</td>\n",
       "      <td>116.852673</td>\n",
       "    </tr>\n",
       "    <tr>\n",
       "      <th>5</th>\n",
       "      <td>490.00</td>\n",
       "      <td>355.788680</td>\n",
       "    </tr>\n",
       "    <tr>\n",
       "      <th>6</th>\n",
       "      <td>2.50</td>\n",
       "      <td>115.655351</td>\n",
       "    </tr>\n",
       "    <tr>\n",
       "      <th>7</th>\n",
       "      <td>39.20</td>\n",
       "      <td>119.675894</td>\n",
       "    </tr>\n",
       "    <tr>\n",
       "      <th>8</th>\n",
       "      <td>56.00</td>\n",
       "      <td>149.188071</td>\n",
       "    </tr>\n",
       "    <tr>\n",
       "      <th>9</th>\n",
       "      <td>157.00</td>\n",
       "      <td>211.648720</td>\n",
       "    </tr>\n",
       "    <tr>\n",
       "      <th>10</th>\n",
       "      <td>12.10</td>\n",
       "      <td>117.957746</td>\n",
       "    </tr>\n",
       "    <tr>\n",
       "      <th>11</th>\n",
       "      <td>0.25</td>\n",
       "      <td>115.565023</td>\n",
       "    </tr>\n",
       "    <tr>\n",
       "      <th>12</th>\n",
       "      <td>17.50</td>\n",
       "      <td>116.910329</td>\n",
       "    </tr>\n",
       "    <tr>\n",
       "      <th>13</th>\n",
       "      <td>180.00</td>\n",
       "      <td>300.054562</td>\n",
       "    </tr>\n",
       "    <tr>\n",
       "      <th>14</th>\n",
       "      <td>2.40</td>\n",
       "      <td>116.083927</td>\n",
       "    </tr>\n",
       "    <tr>\n",
       "      <th>15</th>\n",
       "      <td>423.00</td>\n",
       "      <td>562.389289</td>\n",
       "    </tr>\n",
       "    <tr>\n",
       "      <th>16</th>\n",
       "      <td>12.50</td>\n",
       "      <td>116.900720</td>\n",
       "    </tr>\n",
       "    <tr>\n",
       "      <th>17</th>\n",
       "      <td>680.00</td>\n",
       "      <td>623.889005</td>\n",
       "    </tr>\n",
       "    <tr>\n",
       "      <th>18</th>\n",
       "      <td>4.00</td>\n",
       "      <td>115.652468</td>\n",
       "    </tr>\n",
       "  </tbody>\n",
       "</table>\n",
       "</div>"
      ],
      "text/plain": [
       "    Actual   Predicted\n",
       "0   655.00  616.201541\n",
       "1     1.20  115.627483\n",
       "2     0.40  115.577515\n",
       "3    25.60  118.726493\n",
       "4     8.10  116.852673\n",
       "5   490.00  355.788680\n",
       "6     2.50  115.655351\n",
       "7    39.20  119.675894\n",
       "8    56.00  149.188071\n",
       "9   157.00  211.648720\n",
       "10   12.10  117.957746\n",
       "11    0.25  115.565023\n",
       "12   17.50  116.910329\n",
       "13  180.00  300.054562\n",
       "14    2.40  116.083927\n",
       "15  423.00  562.389289\n",
       "16   12.50  116.900720\n",
       "17  680.00  623.889005\n",
       "18    4.00  115.652468"
      ]
     },
     "execution_count": 37,
     "metadata": {},
     "output_type": "execute_result"
    }
   ],
   "source": [
    "df = pd.DataFrame({'Actual': y_test, 'Predicted': y_pred})\n",
    "df"
   ]
  },
  {
   "cell_type": "code",
   "execution_count": 35,
   "id": "d52b9a34",
   "metadata": {},
   "outputs": [
    {
     "data": {
      "text/plain": [
       "array([616.20154059, 115.62748348, 115.57751496, 118.72649262,\n",
       "       116.85267314, 355.78867986, 115.65535054, 119.67589448,\n",
       "       149.18807079, 211.64872004, 117.95774616, 115.56502283,\n",
       "       116.91032912, 300.05456206, 116.08392669, 562.38928893,\n",
       "       116.90071979, 623.88900512, 115.65246774])"
      ]
     },
     "execution_count": 35,
     "metadata": {},
     "output_type": "execute_result"
    }
   ],
   "source": [
    "y_pred = regressor.predict(X_test) # given the features of the test dataset, it will give the final predictions\n",
    "\"Syntax : varName.predict(test_features)\"\n",
    "y_pred"
   ]
  },
  {
   "cell_type": "markdown",
   "id": "5c7e1bfc",
   "metadata": {},
   "source": [
    "# R2 Evaluation metric"
   ]
  },
  {
   "cell_type": "code",
   "execution_count": 44,
   "id": "ef0664d7",
   "metadata": {},
   "outputs": [
    {
     "name": "stdout",
     "output_type": "stream",
     "text": [
      "R2- SCORE: 0.7888057194409372\n"
     ]
    }
   ],
   "source": [
    "from sklearn import metrics \n",
    "print('R2- SCORE:', metrics.r2_score(y_test,y_pred))"
   ]
  },
  {
   "cell_type": "markdown",
   "id": "15ca2c54",
   "metadata": {},
   "source": [
    "R2 is less than 0.8 so model has medium linear relationship  "
   ]
  },
  {
   "cell_type": "code",
   "execution_count": null,
   "id": "7691ca8e",
   "metadata": {},
   "outputs": [],
   "source": []
  },
  {
   "cell_type": "code",
   "execution_count": null,
   "id": "4e8177bf",
   "metadata": {},
   "outputs": [],
   "source": []
  }
 ],
 "metadata": {
  "kernelspec": {
   "display_name": "Python 3 (ipykernel)",
   "language": "python",
   "name": "python3"
  },
  "language_info": {
   "codemirror_mode": {
    "name": "ipython",
    "version": 3
   },
   "file_extension": ".py",
   "mimetype": "text/x-python",
   "name": "python",
   "nbconvert_exporter": "python",
   "pygments_lexer": "ipython3",
   "version": "3.9.5"
  }
 },
 "nbformat": 4,
 "nbformat_minor": 5
}
